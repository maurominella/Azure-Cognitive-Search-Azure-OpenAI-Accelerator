{
 "cells": [
  {
   "cell_type": "markdown",
   "id": "66ab3cc5-aee4-415a-9391-1e5d37ccaf1d",
   "metadata": {},
   "source": [
    "# API Search - Make our bot to talk to any API"
   ]
  },
  {
   "cell_type": "markdown",
   "id": "306fc0a9-4044-441d-9ba7-f54f32e6ea9f",
   "metadata": {},
   "source": [
    "We have observed the remarkable synergy created by combining **GPT-4 with intelligent agents and detailed prompts**. This powerful combination has consistently delivered impressive results. To further capitalize on this capability, we should aim to integrate it with various systems through API communication. Essentially, we can develop within this notebook what is referred to in OpenAI's ChatGPT as 'GPTs.'\n",
    "\n",
    "Envision a bot that seamlessly integrates with:\n",
    "\n",
    "- **CRM Systems:** Including Dynamics, Salesforce, and HubSpot.\n",
    "- **ERP Systems:** Such as SAP, Dynamics, and Oracle.\n",
    "- **CMS Systems:** Including Adobe, Oracle, and other content management platforms.\n",
    "\n",
    "The objective is to connect our bot with data repositories, minimizing data duplication as much as possible. These systems typically offer APIs, facilitating programmatic data access.\n",
    "\n",
    "In this notebook, we plan to develop an agent capable of querying an API to retrieve information and effectively answer questions. We will maintain our focus on the COVID-19 theme and interact with the Open Disease Data API (https://disease.sh/)."
   ]
  },
  {
   "cell_type": "code",
   "execution_count": 1,
   "id": "c1fb79a3-4856-4721-988c-112813690a90",
   "metadata": {},
   "outputs": [],
   "source": [
    "import json\n",
    "import requests\n",
    "from time import sleep\n",
    "from typing import Dict, List\n",
    "from pydantic import BaseModel, Extra, root_validator\n",
    "\n",
    "from langchain.chat_models import AzureChatOpenAI\n",
    "from langchain.agents import AgentExecutor\n",
    "from langchain.callbacks.manager import CallbackManager\n",
    "from langchain.agents import initialize_agent, AgentType\n",
    "from langchain.tools import BaseTool\n",
    "from langchain.requests import RequestsWrapper\n",
    "from langchain.chains import APIChain\n",
    "from langchain.agents.agent_toolkits.openapi.spec import reduce_openapi_spec\n",
    "\n",
    "from common.callbacks import StdOutCallbackHandler\n",
    "from common.utils import num_tokens_from_string, reduce_openapi_spec\n",
    "from common.prompts import APISEARCH_PROMPT_PREFIX\n",
    "\n",
    "from IPython.display import Markdown, HTML, display  \n",
    "\n",
    "from dotenv import load_dotenv\n",
    "load_dotenv(\"credentials_my.env\")\n",
    "\n",
    "def printmd(string):\n",
    "    display(Markdown(string.replace(\"$\",\"USD \")))"
   ]
  },
  {
   "cell_type": "code",
   "execution_count": 2,
   "id": "258a6e99-2d4f-4147-b8ee-c64c85296181",
   "metadata": {},
   "outputs": [],
   "source": [
    "# Set the ENV variables that Langchain needs to connect to Azure OpenAI\n",
    "os.environ[\"OPENAI_API_VERSION\"] = os.environ[\"AZURE_OPENAI_API_VERSION\"]"
   ]
  },
  {
   "cell_type": "code",
   "execution_count": 3,
   "id": "9d3daf03-77e2-466e-a255-2f06bee3561b",
   "metadata": {},
   "outputs": [],
   "source": [
    "cb_handler = StdOutCallbackHandler()\n",
    "cb_manager = CallbackManager(handlers=[cb_handler])\n",
    "\n",
    "llm_1 = AzureChatOpenAI(deployment_name=\"gpt-4-32k\", temperature=0, max_tokens=2000, callback_manager=cb_manager)\n",
    "llm_2 = AzureChatOpenAI(deployment_name=\"gpt-35-turbo-16k\", temperature=0, max_tokens=1000)\n"
   ]
  },
  {
   "cell_type": "markdown",
   "id": "9cc03401-a5a9-455b-bf17-07da2005e61f",
   "metadata": {},
   "source": [
    "## The Logic"
   ]
  },
  {
   "cell_type": "markdown",
   "id": "ebe42eda-3e74-4114-bd25-2473593cc1b4",
   "metadata": {},
   "source": [
    "By now, you must infer that the solution for an API Agent has to be something like: give the API specification as part of the system prompt to the LLM, then have an agent plan for the right steps to formulate the API call.<br>\n",
    "\n",
    "Let's do that. But we must first understand the industry standards of Swagger/OpenAPI\n"
   ]
  },
  {
   "cell_type": "markdown",
   "id": "1e8e0b32-a6b5-4b1c-943d-e57b737213fa",
   "metadata": {},
   "source": [
    "## Introduction to OpenAPI (formerly Swagger)"
   ]
  },
  {
   "cell_type": "markdown",
   "id": "003327ac-2851-48ef-8a6b-2d8c2004bb2e",
   "metadata": {},
   "source": [
    "The OpenAPI Specification, previously known as the Swagger Specification, is a specification for a machine-readable interface definition language for describing, producing, consuming and visualizing web services. Previously part of the Swagger framework, it became a separate project in 2016, overseen by the OpenAPI Initiative, an open-source collaboration project of the Linux Foundation.\n",
    "\n",
    "OpenAPI Specification is an API description format for REST APIs. An OpenAPI file allows you to describe your entire API, including: Available endpoints (/users for example) and operations on each endpoint ( GET /users, POST /users), description, contact information, license, terms of use and other information."
   ]
  },
  {
   "cell_type": "markdown",
   "id": "a1902af5-f889-4bcf-85e0-1b601bd2ce47",
   "metadata": {},
   "source": [
    "### Let's get the OpenAPI (Swagger) spec from our desired API that we want to talk to"
   ]
  },
  {
   "cell_type": "code",
   "execution_count": 4,
   "id": "e78960a6-623d-4999-a4e3-89aee5c076de",
   "metadata": {},
   "outputs": [],
   "source": [
    "url = 'https://disease.sh/apidocs/swagger_v3.json'\n",
    "response = requests.get(url)\n",
    "\n",
    "# Check if the request was successful\n",
    "if response.status_code == 200:\n",
    "    spec = response.json()\n",
    "else:\n",
    "    spec = None\n",
    "    print(f\"Failed to retrieve data: Status code {response.status_code}\")\n"
   ]
  },
  {
   "cell_type": "markdown",
   "id": "dd3cab16-e71d-4652-ab27-7b0704365454",
   "metadata": {},
   "source": [
    "Let's see how big is this API specification:"
   ]
  },
  {
   "cell_type": "code",
   "execution_count": 5,
   "id": "94503afc-c398-458a-b369-610c5dbe682d",
   "metadata": {},
   "outputs": [],
   "source": [
    "# You can check the function \"reduce_openapi_spec()\" in utils.py\n",
    "reduced_api_spec = reduce_openapi_spec(spec)"
   ]
  },
  {
   "cell_type": "code",
   "execution_count": 6,
   "id": "57d77e9b-6f3f-4ec4-bc01-baac18984937",
   "metadata": {},
   "outputs": [
    {
     "name": "stdout",
     "output_type": "stream",
     "text": [
      "API spec size in tokens: 12855\n",
      "Reduced API spec size in tokens: 8772\n"
     ]
    }
   ],
   "source": [
    "api_tokens = num_tokens_from_string(str(spec))\n",
    "print(\"API spec size in tokens:\",api_tokens)\n",
    "api_tokens = num_tokens_from_string(str(reduced_api_spec))\n",
    "print(\"Reduced API spec size in tokens:\",api_tokens)"
   ]
  },
  {
   "cell_type": "markdown",
   "id": "d8b95356-587d-43ca-982f-500779078482",
   "metadata": {},
   "source": [
    "Sometimes it makes sense to reduce the size of the API Specs by using the `reduce_openapi_spec` function. It's optional."
   ]
  },
  {
   "cell_type": "markdown",
   "id": "9a945386-39eb-405d-9310-3b67c9af77bb",
   "metadata": {},
   "source": [
    "## Question\n",
    "Let's make a complicated question that requires two distinct API calls to different endpoints:"
   ]
  },
  {
   "cell_type": "code",
   "execution_count": 7,
   "id": "d020b5de-7ebe-4fb9-9b71-f6c71956149d",
   "metadata": {},
   "outputs": [],
   "source": [
    "QUESTION = '''\n",
    "What is to-date the amount of people tested in Argentina vs USA? \n",
    "Also tell me what is the continent with more covid deaths and what's the count as of today\n",
    "'''"
   ]
  },
  {
   "cell_type": "markdown",
   "id": "d467f57a-7a03-431a-abe9-ca552e71aed0",
   "metadata": {},
   "source": [
    "## Use a chain to convert the natural language question to an API request using the API specification in the prompt"
   ]
  },
  {
   "cell_type": "markdown",
   "id": "695c47b3-191a-430d-8691-a255152ffee9",
   "metadata": {},
   "source": [
    "We can use a nice chain in langchain called APIChain"
   ]
  },
  {
   "cell_type": "code",
   "execution_count": 8,
   "id": "96731b5f-988b-49ec-a5c3-3a344b7085da",
   "metadata": {},
   "outputs": [],
   "source": [
    "# Most of APIs require Authorization tokens, so we construct the headers using a lightweight python request wrapper called RequestsWrapper\n",
    "access_token = \"ABCDEFG123456\" \n",
    "headers = {\"Authorization\": f\"Bearer {access_token}\"}\n",
    "requests_wrapper = RequestsWrapper(headers=headers)"
   ]
  },
  {
   "cell_type": "markdown",
   "id": "1fd6a140-f675-40db-98ad-b5c955a4f7b6",
   "metadata": {},
   "source": [
    "**Note**: Notice that we are using GPT-3.5 (llm_2) below for this chain since it doesn't need too many instructions or reasoning"
   ]
  },
  {
   "cell_type": "code",
   "execution_count": 9,
   "id": "426fab6f-ea04-4c07-8211-d9cc5c70ac8e",
   "metadata": {},
   "outputs": [],
   "source": [
    "chain = APIChain.from_llm_and_api_docs(\n",
    "    llm=llm_2,\n",
    "    api_docs=str(reduced_api_spec),\n",
    "    headers=headers,\n",
    "    verbose=True,\n",
    "    limit_to_domains=[\"https://disease.sh/\"],\n",
    ")"
   ]
  },
  {
   "cell_type": "markdown",
   "id": "1707e590-809b-4391-bdcd-c7d285ec8fb1",
   "metadata": {},
   "source": [
    "These are the prompts on the APIChain class (on to create the URL endpoint and the other one to use it and get the answer):"
   ]
  },
  {
   "cell_type": "code",
   "execution_count": 10,
   "id": "9f80d2bb-e285-4d30-88c8-5677e86cebe2",
   "metadata": {},
   "outputs": [
    {
     "data": {
      "text/plain": [
       "'You are given the below API Documentation:\\n{api_docs}\\nUsing this documentation, generate the full API url to call for answering the user question.\\nYou should build the API url in order to get a response that is as short as possible, while still getting the necessary information to answer the question. Pay attention to deliberately exclude any unnecessary pieces of data in the API call.\\n\\nQuestion:{question}\\nAPI url:'"
      ]
     },
     "execution_count": 10,
     "metadata": {},
     "output_type": "execute_result"
    }
   ],
   "source": [
    "chain.api_request_chain.prompt.template"
   ]
  },
  {
   "cell_type": "code",
   "execution_count": 11,
   "id": "ccc7e9dc-f36b-45e1-867a-1b92d639e941",
   "metadata": {},
   "outputs": [
    {
     "data": {
      "text/plain": [
       "'You are given the below API Documentation:\\n{api_docs}\\nUsing this documentation, generate the full API url to call for answering the user question.\\nYou should build the API url in order to get a response that is as short as possible, while still getting the necessary information to answer the question. Pay attention to deliberately exclude any unnecessary pieces of data in the API call.\\n\\nQuestion:{question}\\nAPI url: {api_url}\\n\\nHere is the response from the API:\\n\\n{api_response}\\n\\nSummarize this response to answer the original question.\\n\\nSummary:'"
      ]
     },
     "execution_count": 11,
     "metadata": {},
     "output_type": "execute_result"
    }
   ],
   "source": [
    "chain.api_answer_chain.prompt.template"
   ]
  },
  {
   "cell_type": "code",
   "execution_count": 12,
   "id": "d7f60335-5551-4ee0-ba4e-1cd84f3a9f48",
   "metadata": {},
   "outputs": [
    {
     "name": "stdout",
     "output_type": "stream",
     "text": [
      "\n",
      "\n",
      "\u001b[1m> Entering new APIChain chain...\u001b[0m\n",
      "\u001b[32;1m\u001b[1;3mhttps://disease.sh/v3/covid-19/countries/Argentina,USA\u001b[0m\n",
      "\u001b[33;1m\u001b[1;3m[{\"updated\":1702227926201,\"country\":\"Argentina\",\"countryInfo\":{\"_id\":32,\"iso2\":\"AR\",\"iso3\":\"ARG\",\"lat\":-34,\"long\":-64,\"flag\":\"https://disease.sh/assets/img/flags/ar.png\"},\"cases\":10080046,\"todayCases\":0,\"deaths\":130685,\"todayDeaths\":0,\"recovered\":9949361,\"todayRecovered\":0,\"active\":0,\"critical\":0,\"casesPerOneMillion\":219083,\"deathsPerOneMillion\":2840,\"tests\":35716069,\"testsPerOneMillion\":776264,\"population\":46010234,\"continent\":\"South America\",\"oneCasePerPeople\":5,\"oneDeathPerPeople\":352,\"oneTestPerPeople\":1,\"activePerOneMillion\":0,\"recoveredPerOneMillion\":216242.35,\"criticalPerOneMillion\":0},{\"updated\":1702227926182,\"country\":\"USA\",\"countryInfo\":{\"_id\":840,\"iso2\":\"US\",\"iso3\":\"USA\",\"lat\":38,\"long\":-97,\"flag\":\"https://disease.sh/assets/img/flags/us.png\"},\"cases\":109724580,\"todayCases\":0,\"deaths\":1184575,\"todayDeaths\":0,\"recovered\":107596864,\"todayRecovered\":0,\"active\":943141,\"critical\":1538,\"casesPerOneMillion\":327727,\"deathsPerOneMillion\":3538,\"tests\":1186431916,\"testsPerOneMillion\":3543648,\"population\":334805269,\"continent\":\"North America\",\"oneCasePerPeople\":3,\"oneDeathPerPeople\":283,\"oneTestPerPeople\":0,\"activePerOneMillion\":2816.98,\"recoveredPerOneMillion\":321371.48,\"criticalPerOneMillion\":4.59}]\u001b[0m\n",
      "\n",
      "\u001b[1m> Finished chain.\u001b[0m\n"
     ]
    },
    {
     "data": {
      "text/markdown": [
       "To-date, the amount of people tested in Argentina is 35,716,069 and in the USA is 1,186,431,916. \n",
       "\n",
       "The continent with the most COVID deaths as of today is North America, with a count of 1,184,575 deaths."
      ],
      "text/plain": [
       "<IPython.core.display.Markdown object>"
      ]
     },
     "metadata": {},
     "output_type": "display_data"
    }
   ],
   "source": [
    "try:\n",
    "    printmd(chain.run(QUESTION))\n",
    "except Exception as e:\n",
    "    print(e)"
   ]
  },
  {
   "cell_type": "markdown",
   "id": "70d364b5-b7f8-4f14-8501-187fdda97ecd",
   "metadata": {},
   "source": [
    "As we have seen before in prior notebooks, a single chain cannot reason/observe/think, so it cannot figure out that it needs to call two endpoints in order to get the continents information. As you will see below, North America is NOT the continent with the highest amount of deaths."
   ]
  },
  {
   "cell_type": "markdown",
   "id": "2ccdb128-7700-4e37-b378-490051348daa",
   "metadata": {},
   "source": [
    "## Creating a custom agent that uses the APIChain as a tool\n",
    "\n",
    "To solve the avobe problem, we can build a REACT Agent that uses the APIChain as a tool to get the information. This agent will create as many calls as needed (using the chain tool) until it answers the question"
   ]
  },
  {
   "cell_type": "code",
   "execution_count": 13,
   "id": "d3d155ae-16eb-458a-b2ed-5aa9a9b84ed8",
   "metadata": {},
   "outputs": [],
   "source": [
    "class MyAPISearch(BaseTool):\n",
    "    \"\"\"APIChain as an agent tool\"\"\"\n",
    "    \n",
    "    name = \"@apisearch\"\n",
    "    description = \"useful when the questions includes the term: @apisearch.\\n\"\n",
    "\n",
    "    llm: AzureChatOpenAI\n",
    "    api_spec: str\n",
    "    headers: dict = {}\n",
    "    limit_to_domains: list = []\n",
    "    verbose: bool = False\n",
    "    \n",
    "    def _run(self, query: str) -> str:\n",
    "        \n",
    "        chain = APIChain.from_llm_and_api_docs(\n",
    "                            llm=self.llm,\n",
    "                            api_docs=self.api_spec,\n",
    "                            headers=self.headers,\n",
    "                            verbose=self.verbose,\n",
    "                            limit_to_domains=self.limit_to_domains\n",
    "                            )\n",
    "        try:\n",
    "            sleep(2) # This is optional to avoid possible TPM rate limits\n",
    "            response = chain.run(query)\n",
    "        except Exception as e:\n",
    "            response = e\n",
    "        \n",
    "        return response\n",
    "            \n",
    "    async def _arun(self, query: str) -> str:\n",
    "        \"\"\"Use the tool asynchronously.\"\"\"\n",
    "        raise NotImplementedError(\"This Tool does not support async\")"
   ]
  },
  {
   "cell_type": "markdown",
   "id": "b553cd34-d9c1-4ec8-858f-f6cc0126bc1e",
   "metadata": {},
   "source": [
    "Notice below that we are using GPT-35-Turbo-16k (llm_2) for the Tool and GPT-4-turbo (llm_1) for the Agent"
   ]
  },
  {
   "cell_type": "code",
   "execution_count": 14,
   "id": "2c6cf721-76bb-47b6-aeeb-9ff4ff92b1f4",
   "metadata": {
    "tags": []
   },
   "outputs": [],
   "source": [
    "tools = [MyAPISearch(llm=llm_2, api_spec=str(spec), limit_to_domains=[\"https://disease.sh/\"])]\n",
    "agent_executor = initialize_agent(tools, llm_1, agent=AgentType.ZERO_SHOT_REACT_DESCRIPTION, agent_kwargs={'prefix':APISEARCH_PROMPT_PREFIX}, callback_manager=cb_manager)"
   ]
  },
  {
   "cell_type": "code",
   "execution_count": 15,
   "id": "522257ee-9f0c-4260-8713-baf105cea851",
   "metadata": {},
   "outputs": [],
   "source": [
    "# Uncomment if you want to see the prompt\n",
    "# printmd(agent_executor.agent.llm_chain.prompt.template)"
   ]
  },
  {
   "cell_type": "code",
   "execution_count": 16,
   "id": "ca910f71-60fb-4758-b4a9-757e37eb421f",
   "metadata": {},
   "outputs": [
    {
     "name": "stdout",
     "output_type": "stream",
     "text": [
      "The user is asking for up-to-date information on the number of people tested for COVID-19 in Argentina and the USA. They also want to know which continent has the highest number of COVID-19 deaths and the current count. I will use the @apisearch tool to find this information.\n",
      "\n",
      "Action: @apisearch\n",
      "Action Input: COVID-19 testing numbers in Argentina and USA\n",
      "I have found the number of COVID-19 tests conducted in Argentina and the USA. Now, I need to find out which continent has the highest number of COVID-19 deaths and the current count.\n",
      "\n",
      "Action: @apisearch\n",
      "Action Input: Continent with the highest number of COVID-19 deaths\n",
      "I have found the continent with the highest number of COVID-19 deaths, which is Europe. However, I still need to find the current count of deaths in Europe.\n",
      "\n",
      "Action: @apisearch\n",
      "Action Input: Current number of COVID-19 deaths in Europe\n"
     ]
    },
    {
     "data": {
      "text/markdown": [
       "As of the latest data, Argentina has conducted 35,716,069 COVID-19 tests, while the USA has conducted 1,186,431,916 tests. The continent with the highest number of COVID-19 deaths is Europe, with a current count of 2,086,879 deaths."
      ],
      "text/plain": [
       "<IPython.core.display.Markdown object>"
      ]
     },
     "metadata": {},
     "output_type": "display_data"
    },
    {
     "name": "stdout",
     "output_type": "stream",
     "text": [
      "CPU times: user 294 ms, sys: 18.6 ms, total: 313 ms\n",
      "Wall time: 38 s\n"
     ]
    }
   ],
   "source": [
    "%%time \n",
    "\n",
    "#As LLMs responses are never the same, we do a for loop in case the answer cannot be parsed according to our prompt instructions\n",
    "for i in range(2):\n",
    "    try:\n",
    "        response = agent_executor.run(QUESTION) \n",
    "        break\n",
    "    except Exception as e:\n",
    "        response = str(e)\n",
    "        continue\n",
    "        \n",
    "printmd(response)"
   ]
  },
  {
   "cell_type": "markdown",
   "id": "73027201-d6e2-4aa0-a480-934c53ae4eb8",
   "metadata": {},
   "source": [
    "**Great!!** we have now an API Agent using APIChain as a tool, capable of reasoning until it can find the answer. And it is pretty fast as well."
   ]
  },
  {
   "cell_type": "markdown",
   "id": "e9ba3e35-8021-4262-8494-d1aee3862f7e",
   "metadata": {},
   "source": [
    "## Simple APIs\n",
    "\n",
    "What happens if the API is quite basic, meaning it's just a simple endpoint without a Swagger/OpenAPI definition? Let’s consider the following example:\n",
    "\n",
    "[CountdownAPI](https://www.countdownapi.com/) is a streamlined version of the eBay API, available as a paid service. We can test it using their demo query, which does not require any Swagger or OpenAPI specification. In this scenario, our main task is to create a tool that retrieves the results. We then pass these results to an agent for analysis, providing answers to user queries, similar to our approach with the Bing Search agent.\n",
    "\n",
    "An aspect we haven't discussed yet while constructing our API Agent using the APIChain tool is handling situations where either the API specification or the API call results are quite extensive. In such cases, we need to choose between using GPT-4-32k and GPT-4-Turbo.\n",
    "\n",
    "In the example below, there is no API specification, but the response from the API is rather lengthy. For this scenario, we will employ GPT-4-32k."
   ]
  },
  {
   "cell_type": "code",
   "execution_count": 17,
   "id": "9782fafa-9453-46be-b9d7-b33088f61ac8",
   "metadata": {},
   "outputs": [
    {
     "name": "stdout",
     "output_type": "stream",
     "text": [
      "Token count: 17477 \n",
      "\n",
      "{\"request_info\": {\"success\": true, \"demo\": true}, \"request_parameters\": {\"type\": \"search\", \"ebay_domain\": \"ebay.com\", \"search_term\": \"memory cards\"}, \"request_metadata\": {\"ebay_url\": \"https://www.ebay.com/sch/i.html?_nkw=memory+cards&_sacat=0&_dmd=1&_fcid=1\"}, \"search_results\": [{\"position\": 1, \"title\": \"Sandisk Micro SD Card Memory 32GB 64GB 128GB 256GB 512GB 1TB Lot Extreme Ultra\", \"epid\": \"203914554350\", \"link\": \"https://www.ebay.com/itm/203914554350\", \"image\": \"https://i.ebayimg.com/thumbs/images/g/A7wAAOSwemNjTz~l/s-l300.jpg\", \"condition\": \"Brand New\", \"seller_info\": {\"name\": \"terashack\", \"review_count\": 59000, \"positive_feedback_percent\": 100}, \"is_auction\": false, \"buy_it_now\": false, \"free_returns\": true, \"sponsored\": true, \"prices\": [{\"value\": 9.99, \"raw\": \"$9.99\"}, {\"value\": 438.99, \"raw\": \"$438.99\"}], \"price\": {\"value\": 9.99, \"raw\": \"$9.99\"}}, {\"position\": 2, \"title\": \"SanDisk 512GB Extreme PRO CFexpress Memory Card Type B - SDCFE-512G-ANCIN\", \"epid\": \"295270697902\", \"link\": \"https://www.ebay.com/itm/295270697902\", \"image\": \"https://i.ebayimg.com/thumbs/images/g/gV4AAOSwLvBjRgCq/s-l300.jpg\", \"hotness\": \"Direct from Western Digital\", \"condition\": \"Brand New\", \"seller_info\": {\"name\": \"wd\", \"review_count\": 38128, \"positive_feedback_percent\": 98.9}, \"is_auction\": false, \"buy_it_now\": false, \"free_returns\": true, \"rating\": 5, \"ratings_total\": 1, \"sponsored\": true, \"prices\": [{\"value\": 343.99, \"raw\": \"$343.99\"}], \"price\": {\"value\": 343.99, \"raw\": \"$343.99\"}}, {\"position\": 3, \"title\": \"Sandisk Micro SD Card Ultra Memory 32GB 64GB 128GB 256GB 512GB 1TB Class 10 TF\", \"epid\": \"202535485899\", \"link\": \"https://www.ebay.com/itm/202535485899\", \"image\": \"https://i.ebayimg.com/thumbs/images/g/G~YAAOSw6ktjD8zP/s-l300.jpg\", \"condition\": \"Brand New\", \"seller_info\": {\"name\": \"terashack\", \"review_count\": 59000, \"positive_feedback_percent\": 100}, \"is_auction\": false, \"buy_it_now\": false, \"free_returns\": true, \"sponsored\": true, \"prices\": [{\"value\": 9.99, \"raw\": \"$9.99\"}, {\"val ...\n"
     ]
    }
   ],
   "source": [
    "# set up the request parameters\n",
    "params = {\n",
    "  'api_key': 'demo',\n",
    "  'type': 'search',\n",
    "  'ebay_domain': 'ebay.com',\n",
    "  'search_term': 'memory cards'\n",
    "}\n",
    "\n",
    "# make the http GET request to Countdown API\n",
    "api_result = requests.get('https://api.countdownapi.com/request', params)\n",
    "\n",
    "num_tokens = num_tokens_from_string(str(api_result.json())) # this is a custom function we created in common/utils.py\n",
    "print(\"Token count:\",num_tokens,\"\\n\")  \n",
    "\n",
    "# print the first 2000 characters of JSON response from Countdown API\n",
    "print(json.dumps(api_result.json())[:2000], \"...\")"
   ]
  },
  {
   "cell_type": "markdown",
   "id": "57cf8aaa-9a16-48ad-9846-bbacec82d52f",
   "metadata": {},
   "source": [
    "So, the answer from this product query (the demo only works with 'memory cards' - you will need to sign up for their trial if you want to try any query with an API key), is about 16.5k tokens. When combined with the prompt, we won't have any other option than to use GPT-4-32k or GPT-4 turbo models. "
   ]
  },
  {
   "cell_type": "code",
   "execution_count": 18,
   "id": "67c51a32-13f5-4802-84cd-ce40b397cb1b",
   "metadata": {},
   "outputs": [],
   "source": [
    "class MySimpleAPISearch(BaseTool):\n",
    "    \"\"\"Tool for simple API calls that doesn't require OpenAPI 3.0 specs\"\"\"\n",
    "    \n",
    "    name = \"@apisearch\"\n",
    "    description = \"useful when the questions includes the term: @apisearch.\\n\"\n",
    "\n",
    "    api_key: str\n",
    "    \n",
    "    def _run(self, query: str) -> str:\n",
    "        \n",
    "        params = {\n",
    "          'api_key': self.api_key,\n",
    "          'type': 'search',\n",
    "          'ebay_domain': 'ebay.com',\n",
    "          'search_term': query\n",
    "        }\n",
    "\n",
    "        # make the http GET request to Countdown API\n",
    "        api_result = requests.get('https://api.countdownapi.com/request', params)\n",
    "        \n",
    "        try:\n",
    "            response = json.dumps(api_result.json())\n",
    "        except Exception as e:\n",
    "            response = e\n",
    "        \n",
    "        return response\n",
    "            \n",
    "    async def _arun(self, query: str) -> str:\n",
    "        \"\"\"Use the tool asynchronously.\"\"\"\n",
    "        raise NotImplementedError(\"This Tool does not support async\")"
   ]
  },
  {
   "cell_type": "code",
   "execution_count": 19,
   "id": "c0daa409-a196-4eae-aaac-b4545d0e3280",
   "metadata": {},
   "outputs": [],
   "source": [
    "tools = [MySimpleAPISearch(api_key='demo')]\n",
    "agent_executor = initialize_agent(tools, llm_1, \n",
    "                                  agent=AgentType.ZERO_SHOT_REACT_DESCRIPTION, \n",
    "                                  agent_kwargs={'prefix':APISEARCH_PROMPT_PREFIX}, \n",
    "                                  callback_manager=cb_manager,\n",
    "                                  handle_parsing_errors=True)"
   ]
  },
  {
   "cell_type": "code",
   "execution_count": 20,
   "id": "71a1d824-7257-4a6b-8b0c-cd5176136ac7",
   "metadata": {},
   "outputs": [
    {
     "name": "stdout",
     "output_type": "stream",
     "text": [
      "The user is asking for the price of SanDisk memory cards and also wants the links to the sources of this information. I will use the @apisearch tool to find this information.\n",
      "Action: @apisearch\n",
      "Action Input: SanDisk memory card price\n",
      "The search was unsuccessful due to an issue with the API. I should try again to find the information the user is asking for.\n",
      "Action: @apisearch\n",
      "Action Input: price of SanDisk memory cards\n",
      "The search was successful and I found several listings for SanDisk memory cards on eBay. The prices vary depending on the type and capacity of the memory card. Here are some examples:\n",
      "\n",
      "1. [SanDisk High Endurance Micro SD Memory Card 32GB 64GB 128GB 256GB V30 C10 CCTV](https://www.ebay.com/itm/204531908628) - Price ranges from USD 16.99 to USD 308.99.\n",
      "2. [Lot 4 x SanDisk 32GB SDHC Class 4 SD Flash Memory Card Camera SDSDB-032G 128GB](https://www.ebay.com/itm/253863195301) - Price is USD 24.99.\n",
      "3. [Lot of 5 SanDisk 16GB SD HC Class 4 Memory Cards Cards SDSDB-016G-A46 US Version](https://www.ebay.com/itm/295554233097) - Price is USD 34.95.\n",
      "4. [SanDisk MicroSDXC Card Bundle 2 Cards and Adapters 64gb & 128gb See Description](https://www.ebay.com/itm/404510262327) - Price is USD 20.\n",
      "5. [Sandisk SD Cards 16GB 32GB 64GB 128GB 256GB Extreme Pro Ultra Memory Cards lot](https://www.ebay.com/itm/324078167020) - Price ranges from USD 7.98 to USD 236.74.\n",
      "\n",
      "Please note that these prices are from eBay and may vary based on the seller and condition of the memory card.\n"
     ]
    },
    {
     "data": {
      "text/markdown": [
       "Here are some examples of SanDisk memory cards and their prices:\n",
       "\n",
       "1. [SanDisk High Endurance Micro SD Memory Card 32GB 64GB 128GB 256GB V30 C10 CCTV](https://www.ebay.com/itm/204531908628) - Price ranges from USD 16.99 to USD 308.99.\n",
       "2. [Lot 4 x SanDisk 32GB SDHC Class 4 SD Flash Memory Card Camera SDSDB-032G 128GB](https://www.ebay.com/itm/253863195301) - Price is USD 24.99.\n",
       "3. [Lot of 5 SanDisk 16GB SD HC Class 4 Memory Cards Cards SDSDB-016G-A46 US Version](https://www.ebay.com/itm/295554233097) - Price is USD 34.95.\n",
       "4. [SanDisk MicroSDXC Card Bundle 2 Cards and Adapters 64gb & 128gb See Description](https://www.ebay.com/itm/404510262327) - Price is USD 20.\n",
       "5. [Sandisk SD Cards 16GB 32GB 64GB 128GB 256GB Extreme Pro Ultra Memory Cards lot](https://www.ebay.com/itm/324078167020) - Price ranges from USD 7.98 to USD 236.74.\n",
       "\n",
       "Please note that these prices are from eBay and may vary based on the seller and condition of the memory card."
      ],
      "text/plain": [
       "<IPython.core.display.Markdown object>"
      ]
     },
     "metadata": {},
     "output_type": "display_data"
    }
   ],
   "source": [
    "#As LLMs responses are never the same, we do a for loop in case the answer cannot be parsed according to our prompt instructions\n",
    "for i in range(2):\n",
    "    try:\n",
    "        response = agent_executor.run('what is the price for SanDisk memory cards? give me the links please') \n",
    "        break\n",
    "    except Exception as e:\n",
    "        response = str(e)\n",
    "        continue\n",
    "\n",
    "printmd(response)"
   ]
  },
  {
   "cell_type": "markdown",
   "id": "56cbc405-26e2-471e-9626-2a0df07f5ddc",
   "metadata": {},
   "source": [
    "# Summary"
   ]
  },
  {
   "cell_type": "markdown",
   "id": "7381ea5f-7269-4e1f-8b0c-1e2c04bd84c0",
   "metadata": {},
   "source": [
    "In this notebook, we learned about how to create very smart API agents for simple or complex APIs that use Swagger or OpenAPI specifications.\n",
    "We see, again, that the key to success is to use: Agents with Expert tools + GPT-4 + good prompts.\n",
    "\n",
    "As homework, try to create a shopping assistant for Etsy e-commerce site using the following API spec: (you will need to register for free and create an API-Key)\n",
    "\n",
    "- https://developers.etsy.com/documentation/\n",
    "- https://www.etsy.com/openapi/generated/oas/3.0.0.json"
   ]
  },
  {
   "cell_type": "markdown",
   "id": "02073623-91b4-40d6-8eaf-cb6d9c6a7a9a",
   "metadata": {},
   "source": [
    "# NEXT\n",
    "\n",
    "The Next Notebook will guide you on how we stick everything together. How do we use the features of all notebooks and create a brain agent that can respond to any request accordingly."
   ]
  }
 ],
 "metadata": {
  "kernelspec": {
   "display_name": "openaivbd_20231215",
   "language": "python",
   "name": "openaivbd_20231215"
  },
  "language_info": {
   "codemirror_mode": {
    "name": "ipython",
    "version": 3
   },
   "file_extension": ".py",
   "mimetype": "text/x-python",
   "name": "python",
   "nbconvert_exporter": "python",
   "pygments_lexer": "ipython3",
   "version": "3.10.13"
  }
 },
 "nbformat": 4,
 "nbformat_minor": 5
}
