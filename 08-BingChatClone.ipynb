{
 "cells": [
  {
   "cell_type": "markdown",
   "id": "66ab3cc5-aee4-415a-9391-1e5d37ccaf1d",
   "metadata": {},
   "source": [
    "# Internet and Websites Search using Bing API - Bing Chat Clone"
   ]
  },
  {
   "cell_type": "markdown",
   "id": "306fc0a9-4044-441d-9ba7-f54f32e6ea9f",
   "metadata": {},
   "source": [
    "In this notebook, we'll delve into the ways in which you can **boost your GPT Smart Search Engine with web search functionalities**, utilizing both Langchain and the Azure Bing Search API service.\n",
    "\n",
    "As previously discussed in our other notebooks, **harnessing agents and tools is an effective approach**. We aim to leverage the capabilities of OpenAI's large language models (LLM), such as GPT-4 and its successors, to perform the heavy lifting of reasoning and researching on our behalf.\n",
    "\n",
    "There are numerous instances where it is necessary for our Smart Search Engine to have internet access. For instance, we may wish to **enrich an answer with information available on the web**, or **provide users with up-to-date and recent information**, or **finding information on an specific public website**. Regardless of the scenario, we require our engine to base its responses on search results.\n",
    "\n",
    "By the conclusion of this notebook, you'll have a solid understanding of the Bing Search API basics, including **how to create a Web Search Agent using the Bing Search API**, and how these tools can strengthen your chatbot. Additionally, you'll learn about **Callback Handlers, their use, and their significance in bot applications**."
   ]
  },
  {
   "cell_type": "code",
   "execution_count": 1,
   "id": "c1fb79a3-4856-4721-988c-112813690a90",
   "metadata": {},
   "outputs": [],
   "source": [
    "import requests\n",
    "from typing import Dict, List\n",
    "from pydantic import BaseModel, Extra, root_validator\n",
    "\n",
    "from langchain.chat_models import AzureChatOpenAI\n",
    "from langchain.agents import AgentExecutor\n",
    "from langchain.callbacks.manager import CallbackManager\n",
    "from langchain.agents import initialize_agent, AgentType\n",
    "from langchain.tools import BaseTool\n",
    "from langchain.utilities import BingSearchAPIWrapper\n",
    "\n",
    "from common.callbacks import StdOutCallbackHandler\n",
    "from common.prompts import BING_PROMPT_PREFIX\n",
    "\n",
    "from IPython.display import Markdown, HTML, display  \n",
    "\n",
    "from dotenv import load_dotenv\n",
    "load_dotenv(\"credentials (my).env\")\n",
    "\n",
    "def printmd(string):\n",
    "    display(Markdown(string.replace(\"$\",\"USD \")))"
   ]
  },
  {
   "cell_type": "code",
   "execution_count": 2,
   "id": "258a6e99-2d4f-4147-b8ee-c64c85296181",
   "metadata": {},
   "outputs": [],
   "source": [
    "# Set the ENV variables that Langchain needs to connect to Azure OpenAI\n",
    "os.environ[\"OPENAI_API_BASE\"]    = os.environ[\"AZURE_OPENAI_ENDPOINT\"]\n",
    "os.environ[\"OPENAI_API_KEY\"]     = os.environ[\"AZURE_OPENAI_API_KEY\"]\n",
    "os.environ[\"OPENAI_API_VERSION\"] = os.environ[\"AZURE_OPENAI_API_VERSION\"]\n",
    "os.environ[\"OPENAI_API_TYPE\"]    = os.environ[\"OPENAI_API_TYPE\"]\n",
    "\n",
    "# GPT-4 models are necessary for this feature. GPT-35-turbo will make mistakes multiple times on following system prompt instructions.\n",
    "MODEL = os.environ[\"COMPLETION432_DEPLOYMENT\"]"
   ]
  },
  {
   "cell_type": "markdown",
   "id": "1e8e0b32-a6b5-4b1c-943d-e57b737213fa",
   "metadata": {},
   "source": [
    "## Introduction to Callback Handlers"
   ]
  },
  {
   "cell_type": "markdown",
   "id": "003327ac-2851-48ef-8a6b-2d8c2004bb2e",
   "metadata": {},
   "source": [
    "This following explanation comes directly from the Langchain documentation about Callbacks ([HERE](https://python.langchain.com/docs/modules/callbacks/)):\n",
    "\n",
    "**Callbacks**:<br>\n",
    "LangChain provides a callbacks system that allows you to hook into the various stages of your LLM application. This is useful for logging, monitoring, streaming, and other tasks. You can subscribe to these events by using the callbacks argument available throughout the API. This argument is list of handler objects.\n",
    "\n",
    "**Callback handlers**:<br>\n",
    "CallbackHandlers are objects that implement the CallbackHandler interface, which has a method for each event that can be subscribed to. The CallbackManager will call the appropriate method on each handler when the event is triggered.\n",
    "\n",
    "--------------------\n",
    "We will incorporate a handler for the callbacks, enabling us to observe the response as it streams and to gain insights into the Agent's reasoning process. This will prove incredibly valuable when we aim to stream the bot's responses to users and keep them informed about the ongoing process as they await the answer.\n",
    "\n",
    "Our custom handler is on the folder `common/callbacks.py`. Go and take a look at it."
   ]
  },
  {
   "cell_type": "code",
   "execution_count": 3,
   "id": "9d3daf03-77e2-466e-a255-2f06bee3561b",
   "metadata": {},
   "outputs": [],
   "source": [
    "cb_handler = StdOutCallbackHandler()\n",
    "cb_manager = CallbackManager(handlers=[cb_handler])\n",
    "\n",
    "# Now we declare our LLM object with the callback handler \n",
    "llm = AzureChatOpenAI(deployment_name=MODEL, temperature=0, max_tokens=1000)\n",
    "\n",
    "# or uncomment the below line if you want to see the responses being streamed too\n",
    "llm = AzureChatOpenAI(deployment_name=MODEL, temperature=0, max_tokens=1000, streaming=True, callback_manager=cb_manager)"
   ]
  },
  {
   "cell_type": "markdown",
   "id": "11da70c2-60b6-47fb-94f1-aa11291fa40c",
   "metadata": {},
   "source": [
    "## Creating a custom tool - Bing Search API tool"
   ]
  },
  {
   "cell_type": "markdown",
   "id": "4dc30c9d-605d-4ada-9358-f926aeed2e48",
   "metadata": {},
   "source": [
    "Langhain has already a pre-created tool called BingSearchAPIWrapper ([HERE](https://github.com/hwchase17/langchain/blob/master/langchain/utilities/bing_search.py)), however we are going to make it a bit better by using the results function instead of the run function, that way we not only have the text results, but also the title and link(source) of each snippet."
   ]
  },
  {
   "cell_type": "code",
   "execution_count": 4,
   "id": "d3d155ae-16eb-458a-b2ed-5aa9a9b84ed8",
   "metadata": {},
   "outputs": [],
   "source": [
    "class MyBingSearch(BaseTool):\n",
    "    \"\"\"Tool for a Bing Search Wrapper\"\"\"\n",
    "    \n",
    "    name = \"@bing\"\n",
    "    description = \"useful when the questions includes the term: @bing.\\n\"\n",
    "\n",
    "    k: int = 5\n",
    "    \n",
    "    def _run(self, query: str) -> str:\n",
    "        bing = BingSearchAPIWrapper(k=self.k)\n",
    "        return bing.results(query,num_results=self.k)\n",
    "            \n",
    "    async def _arun(self, query: str) -> str:\n",
    "        \"\"\"Use the tool asynchronously.\"\"\"\n",
    "        raise NotImplementedError(\"This Tool does not support async\")"
   ]
  },
  {
   "cell_type": "markdown",
   "id": "0a3d6569-0c61-4b1c-9263-431304577551",
   "metadata": {},
   "source": [
    "Now, we create our REACT agent that uses our custom tool and our custom prompt `BING_PROMPT_PREFIX`"
   ]
  },
  {
   "cell_type": "code",
   "execution_count": 5,
   "id": "2c6cf721-76bb-47b6-aeeb-9ff4ff92b1f4",
   "metadata": {},
   "outputs": [],
   "source": [
    "tools = [MyBingSearch(k=5)]\n",
    "agent_executor = initialize_agent(tools, llm, agent=AgentType.ZERO_SHOT_REACT_DESCRIPTION, \n",
    "                         agent_kwargs={'prefix':BING_PROMPT_PREFIX}, callback_manager=cb_manager, )"
   ]
  },
  {
   "cell_type": "markdown",
   "id": "7232260e-e972-4288-b0b5-0b605e584528",
   "metadata": {},
   "source": [
    "Try some of the below questions, or others that you might like"
   ]
  },
  {
   "cell_type": "code",
   "execution_count": 6,
   "id": "fa949cea-c9aa-4529-a75f-61084ffffd7e",
   "metadata": {},
   "outputs": [],
   "source": [
    "QUESTION = \"Create a list with the main facts on What is happening with the oil supply in the world right now?\"\n",
    "# QUESTION = \"How much is 50 USD in Euros and is it enough for an average hotel in Madrid?\"\n",
    "# QUESTION = \"My son needs to build a pinewood car for a pinewood derbi, how do I build such a car?\"\n",
    "# QUESTION = \"Who won the 2023 superbowl and who was the MVP?\"\n",
    "# QUESTION = \"can I travel to Hawaii, Maui from Dallas, TX for 7 days with $7000 on the month of September, what are the best days to travel?\"\n",
    "\n",
    "\n",
    "# This complex question below needs gpt-4-32k (0613 version) in order to ensure a good answer. \n",
    "# ---------------\n",
    "# QUESTION = \"\"\"\n",
    "# compare the number of job opennings (provide the exact number), the average salary within 15 miles of Dallas, TX, for these ocupations:\n",
    "\n",
    "# - ADN Registerd Nurse \n",
    "# - Occupational therapist assistant\n",
    "# - Dental Hygienist\n",
    "# - Graphic Designer\n",
    "# - Real Estate Agent\n",
    "\n",
    "\n",
    "# Create a table with your findings. Place the sources on each cell.\n",
    "# \"\"\""
   ]
  },
  {
   "cell_type": "code",
   "execution_count": 7,
   "id": "ca910f71-60fb-4758-b4a9-757e37eb421f",
   "metadata": {},
   "outputs": [
    {
     "name": "stdout",
     "output_type": "stream",
     "text": [
      "The user is asking for current information about the global oil supply. I will need to perform a web search to gather the most recent data and facts on this topic.\n",
      "Action: @bing\n",
      "Action Input: What is happening with the oil supply in the world right now?The user is asking for current information about the global oil supply. I will need to perform a web search to gather the most recent data and facts on this topic.\n",
      "Action: @bing\n",
      "Action Input: What is happening with the oil supply in the world right now?\n",
      "The search results provide some recent information about the global oil supply. The Brent crude oil prices have increased due to an improving macroeconomic sentiment, easing inflation, and the tightening of global supply due to OPEC cuts and a decline in Russian output<sup><a href=\"https://www.mckinsey.com/industries/oil-and-gas/our-insights/oil-and-gas-blog/snapshot-of-global-oil-supply-and-demand\" target=\"_blank\">[1]</a></sup>. Saudi Arabia has announced it will be cutting its production of crude oil to try to boost prices<sup><a href=\"https://www.bbc.com/news/business-61188579\" target=\"_blank\">[2]</a></sup>. There has been a dip in crude oil prices due to a massive inventory build<sup><a href=\"https://oilprice.com/Energy/Crude-Oil/\" target=\"_blank\">[3]</a></sup>. The recovery in global energy consumption that followed the pandemic-induced drop in 2020 ended prematurely with Russia’s invasion of Ukraine in early 2022, causing turmoil in global energy markets<sup><a href=\"https://www.iea.org/reports/world-energy-outlook-2022/the-global-energy-crisis\" target=\"_blank\">[4]</a></sup>. I will now perform a search on the first two websites from the initial search to gather more information.\n",
      "Action: @bing\n",
      "Action Input: site:https://www.mckinsey.com/ What is happening with the oil supply in the world right now?The search results provide some recent information about the global oil supply. The Brent crude oil prices have increased due to an improving macroeconomic sentiment, easing inflation, and the tightening of global supply due to OPEC cuts and a decline in Russian output<sup><a href=\"https://www.mckinsey.com/industries/oil-and-gas/our-insights/oil-and-gas-blog/snapshot-of-global-oil-supply-and-demand\" target=\"_blank\">[1]</a></sup>. Saudi Arabia has announced it will be cutting its production of crude oil to try to boost prices<sup><a href=\"https://www.bbc.com/news/business-61188579\" target=\"_blank\">[2]</a></sup>. There has been a dip in crude oil prices due to a massive inventory build<sup><a href=\"https://oilprice.com/Energy/Crude-Oil/\" target=\"_blank\">[3]</a></sup>. The recovery in global energy consumption that followed the pandemic-induced drop in 2020 ended prematurely with Russia’s invasion of Ukraine in early 2022, causing turmoil in global energy markets<sup><a href=\"https://www.iea.org/reports/world-energy-outlook-2022/the-global-energy-crisis\" target=\"_blank\">[4]</a></sup>. I will now perform a search on the first two websites from the initial search to gather more information.\n",
      "Action: @bing\n",
      "Action Input: site:https://www.mckinsey.com/ What is happening with the oil supply in the world right now?\n",
      "The search on the McKinsey website provides similar information to the initial search. Brent crude oil prices have increased due to an improving macroeconomic sentiment with easing inflation, and the tightening of global supply due to OPEC cuts and a decline in Russian output<sup><a href=\"https://www.mckinsey.com/industries/oil-and-gas/our-insights/oil-and-gas-blog/snapshot-of-global-oil-supply-and-demand\" target=\"_blank\">[1]</a></sup>. The COVID-19 pandemic sent shocks through global oil markets, with oil demand and supply still struggling to return to pre-pandemic levels<sup><a href=\"https://www.mckinsey.com/industries/oil-and-gas/our-insights/global-oil-supply-and-demand-outlook-to-2040\" target=\"_blank\">[5]</a></sup>. I will now perform a search on the second website from the initial search.\n",
      "Action: @bing\n",
      "Action Input: site:https://www.bbc.com/ What is happening with the oil supply in the world right now?The search on the McKinsey website provides similar information to the initial search. Brent crude oil prices have increased due to an improving macroeconomic sentiment with easing inflation, and the tightening of global supply due to OPEC cuts and a decline in Russian output<sup><a href=\"https://www.mckinsey.com/industries/oil-and-gas/our-insights/oil-and-gas-blog/snapshot-of-global-oil-supply-and-demand\" target=\"_blank\">[1]</a></sup>. The COVID-19 pandemic sent shocks through global oil markets, with oil demand and supply still struggling to return to pre-pandemic levels<sup><a href=\"https://www.mckinsey.com/industries/oil-and-gas/our-insights/global-oil-supply-and-demand-outlook-to-2040\" target=\"_blank\">[5]</a></sup>. I will now perform a search on the second website from the initial search.\n",
      "Action: @bing\n",
      "Action Input: site:https://www.bbc.com/ What is happening with the oil supply in the world right now?\n",
      "The search on the BBC website provides additional information. The price of Brent crude oil, an international benchmark, touched a seven-year high after President Vladimir Putin ordered troops into Ukraine's east<sup><a href=\"https://www.bbc.com/news/business-60473233\" target=\"_blank\">[6]</a></sup>. There is also speculation about the decline of oil use in sight this decade<sup><a href=\"https://www.bbc.com/future/article/20230726-an-experts-guide-to-peak-oil-and-what-it-really-means\" target=\"_blank\">[7]</a></sup>. In July 2021, oil producing nations agreed to increase their output, with the aim of reducing prices and easing pressure on the world economy<sup><a href=\"https://www.bbc.com/news/business-57882449\" target=\"_blank\">[8]</a></sup>. I now have enough information to provide a comprehensive answer to the user's question.\n",
      "Final Answer: Here are the main facts about the current situation with the global oil supply:\n",
      "\n",
      "1. Brent crude oil prices have increased due to an improving macroeconomic sentiment with easing inflation, and the tightening of global supply due to OPEC cuts and a decline in Russian output<sup><a href=\"https://www.mckinsey.com/industries/oil-and-gas/our-insights/oil-and-gas-blog/snapshot-of-global-oil-supply-and-demand\" target=\"_blank\">[1]</a></sup>.\n",
      "2. Saudi Arabia has announced it will be cutting its production of crude oil to try to boost prices<sup><a href=\"https://www.bbc.com/news/business-61188579\" target=\"_blank\">[2]</a></sup>.\n",
      "3. There has been a dip in crude oil prices due to a massive inventory build<sup><a href=\"https://oilprice.com/Energy/Crude-Oil/\" target=\"_blank\">[3]</a></sup>.\n",
      "4. The recovery in global energy consumption that followed the pandemic-induced drop in 2020 ended prematurely with Russia’s invasion of Ukraine in early 2022, causing turmoil in global energy markets<sup><a href=\"https://www.iea.org/reports/world-energy-outlook-2022/the-global-energy-crisis\" target=\"_blank\">[4]</a></sup>.\n",
      "5. The COVID-19 pandemic sent shocks through global oil markets, with oil demand and supply still struggling to return to pre-pandemic levels<sup><a href=\"https://www.mckinsey.com/industries/oil-and-gas/our-insights/global-oil-supply-and-demand-outlook-to-2040\" target=\"_blank\">[5]</a></sup>.\n",
      "6. The price of Brent crude oil, an international benchmark, touched a seven-year high after President Vladimir Putin ordered troops into Ukraine's east<sup><a href=\"https://www.bbc.com/news/business-60473233\" target=\"_blank\">[6]</a></sup>.\n",
      "7. There is speculation about the decline of oil use in sight this decade<sup><a href=\"https://www.bbc.com/future/article/20230726-an-experts-guide-to-peak-oil-and-what-it-really-means\" target=\"_blank\">[7]</a></sup>.\n",
      "8. In July 2021, oil producing nations agreed to increase their output, with the aim of reducing prices and easing pressure on the world economy<sup><a href=\"https://www.bbc.com/news/business-57882449\" target=\"_blank\">[8]</a></sup>.\n",
      "\n",
      "Is there anything else you would like to know?"
     ]
    }
   ],
   "source": [
    "#As LLMs responses are never the same, we do a for loop in case the answer cannot be parsed according to our prompt instructions\n",
    "for i in range(2):\n",
    "    try:\n",
    "        response = agent_executor.run(QUESTION) \n",
    "        break\n",
    "    except Exception as e:\n",
    "        response = str(e)\n",
    "        continue"
   ]
  },
  {
   "cell_type": "code",
   "execution_count": 8,
   "id": "25a410b2-9950-43f5-8f14-b333bdc24ff2",
   "metadata": {},
   "outputs": [
    {
     "data": {
      "text/markdown": [
       "Here are the main facts about the current situation with the global oil supply:\n",
       "\n",
       "1. Brent crude oil prices have increased due to an improving macroeconomic sentiment with easing inflation, and the tightening of global supply due to OPEC cuts and a decline in Russian output<sup><a href=\"https://www.mckinsey.com/industries/oil-and-gas/our-insights/oil-and-gas-blog/snapshot-of-global-oil-supply-and-demand\" target=\"_blank\">[1]</a></sup>.\n",
       "2. Saudi Arabia has announced it will be cutting its production of crude oil to try to boost prices<sup><a href=\"https://www.bbc.com/news/business-61188579\" target=\"_blank\">[2]</a></sup>.\n",
       "3. There has been a dip in crude oil prices due to a massive inventory build<sup><a href=\"https://oilprice.com/Energy/Crude-Oil/\" target=\"_blank\">[3]</a></sup>.\n",
       "4. The recovery in global energy consumption that followed the pandemic-induced drop in 2020 ended prematurely with Russia’s invasion of Ukraine in early 2022, causing turmoil in global energy markets<sup><a href=\"https://www.iea.org/reports/world-energy-outlook-2022/the-global-energy-crisis\" target=\"_blank\">[4]</a></sup>.\n",
       "5. The COVID-19 pandemic sent shocks through global oil markets, with oil demand and supply still struggling to return to pre-pandemic levels<sup><a href=\"https://www.mckinsey.com/industries/oil-and-gas/our-insights/global-oil-supply-and-demand-outlook-to-2040\" target=\"_blank\">[5]</a></sup>.\n",
       "6. The price of Brent crude oil, an international benchmark, touched a seven-year high after President Vladimir Putin ordered troops into Ukraine's east<sup><a href=\"https://www.bbc.com/news/business-60473233\" target=\"_blank\">[6]</a></sup>.\n",
       "7. There is speculation about the decline of oil use in sight this decade<sup><a href=\"https://www.bbc.com/future/article/20230726-an-experts-guide-to-peak-oil-and-what-it-really-means\" target=\"_blank\">[7]</a></sup>.\n",
       "8. In July 2021, oil producing nations agreed to increase their output, with the aim of reducing prices and easing pressure on the world economy<sup><a href=\"https://www.bbc.com/news/business-57882449\" target=\"_blank\">[8]</a></sup>.\n",
       "\n",
       "Is there anything else you would like to know?"
      ],
      "text/plain": [
       "<IPython.core.display.Markdown object>"
      ]
     },
     "metadata": {},
     "output_type": "display_data"
    }
   ],
   "source": [
    "printmd(response)"
   ]
  },
  {
   "cell_type": "markdown",
   "id": "e9ba3e35-8021-4262-8494-d1aee3862f7e",
   "metadata": {},
   "source": [
    "## QnA to specific websites\n",
    "\n",
    "There are several use cases where we want the smart bot to answer questions about a specific company's public website. There are two approaches we can take:\n",
    "\n",
    "1. Create a crawler script that runs regularly, finds every page on the website, and pushes the documents to Azure Cognitive Search.\n",
    "2. Since Bing has likely already indexed the public website, we can utilize Bing search targeted specifically to that site, rather than attempting to index the site ourselves and duplicate the work already done by Bing's crawler.\n",
    "\n",
    "Below are some sample questions related to specific sites. Take a look:"
   ]
  },
  {
   "cell_type": "code",
   "execution_count": 9,
   "id": "e925ee4a-d295-4815-9e8c-bd6999f48892",
   "metadata": {},
   "outputs": [],
   "source": [
    "# QUESTION = \"information on how to kill wasps in homedepot.com\"\n",
    "# QUESTION = \"in target.com, find how what's the price of a Nesspresso coffee machine and of a Keurig coffee machine\"\n",
    "QUESTION = \"in microsoft.com, find out what is the latests news on quantum computing\"\n",
    "# QUESTION = \"give me on a list the main points on the latest investor report from mondelezinternational.com\""
   ]
  },
  {
   "cell_type": "code",
   "execution_count": 10,
   "id": "099830a1-b81d-4698-a458-e84ccf3989cc",
   "metadata": {},
   "outputs": [
    {
     "name": "stdout",
     "output_type": "stream",
     "text": [
      "The user is asking for the latest news on quantum computing from the Microsoft website. I will use the `site:` special operator to search for this information specifically on microsoft.com.\n",
      "Action: @bing\n",
      "Action Input: quantum computing news site:microsoft.comThe user is asking for the latest news on quantum computing from the Microsoft website. I will use the `site:` special operator to search for this information specifically on microsoft.com.\n",
      "Action: @bing\n",
      "Action Input: quantum computing news site:microsoft.com\n",
      "The search results provide several pieces of news about quantum computing from Microsoft. The first snippet mentions a roadmap to Microsoft's quantum supercomputer and a milestone achievement. The second snippet talks about Microsoft's Azure Quantum program developing devices that can create quantum properties. The third snippet discusses how Microsoft Azure Quantum is innovating across every layer of the quantum stack. The fourth snippet introduces Azure Quantum Elements, a tool for researchers in chemistry and materials science. I will compile these pieces of information into a comprehensive response. \n",
      "Final Answer: Here are the latest news on quantum computing from Microsoft:\n",
      "\n",
      "1. Microsoft has published a roadmap to their quantum supercomputer and announced that they've achieved the first milestone<sup><a href=\"https://cloudblogs.microsoft.com/quantum/2023/06/21/microsoft-achieves-first-milestone-towards-a-quantum-supercomputer/\" target=\"_blank\">[1]</a></sup>.\n",
      "2. Microsoft's Azure Quantum program has developed devices that can create quantum properties, a feat that scientists have imagined for nearly a century but have not been able to unambiguously produce in the real world until now<sup><a href=\"https://news.microsoft.com/source/features/innovation/azure-quantum-majorana-topological-qubit/\" target=\"_blank\">[2]</a></sup>.\n",
      "3. Microsoft Azure Quantum is innovating across every layer of the quantum stack, from software and applications to control and devices. This includes the pursuit of fault-tolerant topological qubits that scale towards a general-purpose quantum computer<sup><a href=\"https://www.microsoft.com/en-us/research/research-area/quantum-computing/\" target=\"_blank\">[3]</a></sup>.\n",
      "4. Azure Quantum Elements is a new tool that empowers researchers to make advances in chemistry and materials science with scale, speed, and accuracy by integrating the latest breakthroughs in HPC, AI, and quantum computing<sup><a href=\"https://quantum.microsoft.com/\" target=\"_blank\">[4]</a></sup>.\n",
      "\n",
      "Is there anything else you would like to know?"
     ]
    }
   ],
   "source": [
    "#As LLMs responses are never the same, we do a for loop in case the answer cannot be parsed according to our prompt instructions\n",
    "for i in range(3):\n",
    "    try:\n",
    "        response = agent_executor.run(QUESTION) \n",
    "        break\n",
    "    except Exception as e:\n",
    "        response = str(e)\n",
    "        continue"
   ]
  },
  {
   "cell_type": "code",
   "execution_count": 11,
   "id": "89e67095-277d-45b6-84aa-acef0eb6cf5f",
   "metadata": {},
   "outputs": [
    {
     "data": {
      "text/markdown": [
       "Here are the latest news on quantum computing from Microsoft:\n",
       "\n",
       "1. Microsoft has published a roadmap to their quantum supercomputer and announced that they've achieved the first milestone<sup><a href=\"https://cloudblogs.microsoft.com/quantum/2023/06/21/microsoft-achieves-first-milestone-towards-a-quantum-supercomputer/\" target=\"_blank\">[1]</a></sup>.\n",
       "2. Microsoft's Azure Quantum program has developed devices that can create quantum properties, a feat that scientists have imagined for nearly a century but have not been able to unambiguously produce in the real world until now<sup><a href=\"https://news.microsoft.com/source/features/innovation/azure-quantum-majorana-topological-qubit/\" target=\"_blank\">[2]</a></sup>.\n",
       "3. Microsoft Azure Quantum is innovating across every layer of the quantum stack, from software and applications to control and devices. This includes the pursuit of fault-tolerant topological qubits that scale towards a general-purpose quantum computer<sup><a href=\"https://www.microsoft.com/en-us/research/research-area/quantum-computing/\" target=\"_blank\">[3]</a></sup>.\n",
       "4. Azure Quantum Elements is a new tool that empowers researchers to make advances in chemistry and materials science with scale, speed, and accuracy by integrating the latest breakthroughs in HPC, AI, and quantum computing<sup><a href=\"https://quantum.microsoft.com/\" target=\"_blank\">[4]</a></sup>.\n",
       "\n",
       "Is there anything else you would like to know?"
      ],
      "text/plain": [
       "<IPython.core.display.Markdown object>"
      ]
     },
     "metadata": {},
     "output_type": "display_data"
    }
   ],
   "source": [
    "printmd(response)"
   ]
  },
  {
   "cell_type": "code",
   "execution_count": 12,
   "id": "9782fafa-9453-46be-b9d7-b33088f61ac8",
   "metadata": {},
   "outputs": [],
   "source": [
    "# Uncomment if you want to take a look at the custom bing search prompt (This is where the magic happens: a great system promp + GPT-4)\n",
    "# printmd(agent_executor.agent.llm_chain.prompt.template)"
   ]
  },
  {
   "cell_type": "markdown",
   "id": "56cbc405-26e2-471e-9626-2a0df07f5ddc",
   "metadata": {},
   "source": [
    "# Summary"
   ]
  },
  {
   "cell_type": "markdown",
   "id": "7381ea5f-7269-4e1f-8b0c-1e2c04bd84c0",
   "metadata": {},
   "source": [
    "In this notebook, we learned about Callback Handlers and how to stream the response from the LLM. We also learn how to create a Bing Chat clone using a clever prompt with specific search and formatting instructions.\n",
    "\n",
    "The outcome is an agent capable of conducting intelligent web searches and performing research on our behalf. This agent provides us with answers to our questions along with appropriate URL citations and links!"
   ]
  },
  {
   "cell_type": "markdown",
   "id": "02073623-91b4-40d6-8eaf-cb6d9c6a7a9a",
   "metadata": {},
   "source": [
    "# NEXT\n",
    "\n",
    "The Next Notebook will guide you on how we stick everything together. How do we use the features of all notebooks and create a brain agent that can respond to any request accordingly."
   ]
  }
 ],
 "metadata": {
  "kernelspec": {
   "display_name": "openaivbd",
   "language": "python",
   "name": "openaivbd"
  },
  "language_info": {
   "codemirror_mode": {
    "name": "ipython",
    "version": 3
   },
   "file_extension": ".py",
   "mimetype": "text/x-python",
   "name": "python",
   "nbconvert_exporter": "python",
   "pygments_lexer": "ipython3",
   "version": "3.10.12"
  }
 },
 "nbformat": 4,
 "nbformat_minor": 5
}
