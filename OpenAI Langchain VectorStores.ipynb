{
 "cells": [
  {
   "attachments": {},
   "cell_type": "markdown",
   "id": "707de204-24f8-4b06-ba67-78998040fee6",
   "metadata": {},
   "source": [
    "https://python.langchain.com/docs/modules/data_connection/vectorstores/\n",
    "\n",
    "Ottimo articolo e video:\n",
    "- https://blog.futuresmart.ai/using-langchain-and-open-source-vector-db-chroma-for-semantic-search-with-openais-llm\n",
    "- https://youtu.be/5NG8mefEsCU"
   ]
  },
  {
   "cell_type": "code",
   "execution_count": 1,
   "id": "20a816c9-6bef-4e94-866a-29d8ffef4c78",
   "metadata": {},
   "outputs": [],
   "source": [
    "from langchain.document_loaders import TextLoader\n",
    "from langchain.embeddings.openai import OpenAIEmbeddings\n",
    "from langchain.text_splitter import CharacterTextSplitter\n",
    "from langchain.vectorstores import Chroma\n",
    "\n",
    "from dotenv import load_dotenv\n",
    "load_dotenv(\"credentials (my).env\")\n",
    "os.environ[\"OPENAI_API_KEY\"]     = os.environ[\"AZURE_OPENAI_API_KEY\"]\n",
    "os.environ[\"OPENAI_API_BASE\"]    = os.environ[\"AZURE_OPENAI_ENDPOINT\"]\n",
    "os.environ[\"OPENAI_API_KEY\"]     = os.environ[\"AZURE_OPENAI_API_KEY\"]\n",
    "os.environ[\"OPENAI_API_VERSION\"] = os.environ[\"AZURE_OPENAI_API_VERSION\"]\n",
    "os.environ[\"OPENAI_API_TYPE\"]    = \"azure\"\n",
    "\n",
    "embeddings_model = OpenAIEmbeddings(deployment=\"text-embedding-ada-002\", chunk_size=1)\n",
    "text_splitter    = CharacterTextSplitter(chunk_size=1000, chunk_overlap=0)"
   ]
  },
  {
   "cell_type": "code",
   "execution_count": 2,
   "id": "ddcfb57b-209f-4ccc-a928-9946f779a546",
   "metadata": {},
   "outputs": [],
   "source": [
    "document1_path = \"./data/_others/la savana 1.txt\"\n",
    "document2_path = \"./data/_others/la savana 2.txt\""
   ]
  },
  {
   "cell_type": "markdown",
   "id": "2f533f49-1172-489c-9be0-2fc21ea71c9e",
   "metadata": {},
   "source": [
    "## Perché tutte le sorgenti vengono inserite in un unico array di oggetti Document?\n",
    "Tutti i documenti vengono inseriti in un unico array di Documents, in modo che poi possano essere splittati in chunk tutti insieme."
   ]
  },
  {
   "cell_type": "code",
   "execution_count": 3,
   "id": "020816b9-fc0e-41e7-bd45-252f62dd17fc",
   "metadata": {},
   "outputs": [
    {
     "name": "stdout",
     "output_type": "stream",
     "text": [
      "{'source': './data/_others/la savana 1.txt'}\n",
      "{'source': './data/_others/la savana 2.txt'}\n"
     ]
    }
   ],
   "source": [
    "# Load the document, split it into chunks, embed each chunk and load it into the vector store.\n",
    "raw_documents1    = TextLoader(document1_path).load()\n",
    "raw_documents2    = TextLoader(document2_path).load()\n",
    "raw_documents_all = []\n",
    "for ds in [raw_documents1,raw_documents2]:\n",
    "    for d in ds:\n",
    "        raw_documents_all.append(d)\n",
    "        print(d.metadata)\n",
    "\n",
    "chunks      = text_splitter.split_documents(raw_documents_all)\n",
    "vectorstore = Chroma.from_documents(chunks, embeddings_model)"
   ]
  },
  {
   "cell_type": "code",
   "execution_count": 13,
   "id": "98dcf892-73c5-42ff-a2c7-65b18f65e61b",
   "metadata": {},
   "outputs": [
    {
     "name": "stdout",
     "output_type": "stream",
     "text": [
      "type(raw_documents_all): <class 'list'>, len(raw_documents_all): 2\n",
      "type(chunks): <class 'list'>, len(documents): 6\n",
      "type(vectorstore): <class 'langchain.vectorstores.chroma.Chroma'>, items: ['ids', 'embeddings', 'metadatas', 'documents']\n"
     ]
    }
   ],
   "source": [
    "print(f\"type(raw_documents_all): {type(raw_documents_all)}, len(raw_documents_all): {len(raw_documents_all)}\")\n",
    "print(f\"type(chunks): {type(chunks)}, len(documents): {len(chunks)}\")\n",
    "print(f\"type(vectorstore): {type(vectorstore)}, items: {[i[0] for i in vectorstore.get().items()]}\")"
   ]
  },
  {
   "cell_type": "markdown",
   "id": "154d94da-cb1f-48cc-9452-53dbccefa8aa",
   "metadata": {},
   "source": [
    "# THE QUESTION"
   ]
  },
  {
   "cell_type": "code",
   "execution_count": 5,
   "id": "bec596b3-987c-4319-98ad-e62205fea01e",
   "metadata": {},
   "outputs": [],
   "source": [
    "query = \"I topi vivono vivono nella Savana?\""
   ]
  },
  {
   "cell_type": "markdown",
   "id": "7c55ff3f-2741-4b41-8271-fe5e5799e4e5",
   "metadata": {},
   "source": [
    "# similarity_search and similarity_search_by_vector\n",
    "Se usate correttamente, le due funzioni restituiscono esattamente lo stesso risultato.<br/>\n",
    "La seconda richiede che la query di ricerca si trasformata in embedding.<br/>\n",
    "In entrambi i casi non otteniamo la risposta alla nostra domanda, ma solamente l'elenco dei documenti più vicini."
   ]
  },
  {
   "cell_type": "markdown",
   "id": "6a5b58a4-7996-4aa9-acfd-7fb3ccb31029",
   "metadata": {},
   "source": [
    "### Method 1: similarity_search (using text)"
   ]
  },
  {
   "cell_type": "code",
   "execution_count": 6,
   "id": "c38ca765-95fe-4364-adcb-dc4e61bf93a2",
   "metadata": {},
   "outputs": [
    {
     "name": "stdout",
     "output_type": "stream",
     "text": [
      "content: Il bracconaggio Ã¨ la caccia illecita di animali. ..., source: ./data/_others/la savana 2.txt\n",
      "content: Nel tipico paesaggio della Savana vi Ã¨ una grande..., source: ./data/_others/la savana 1.txt\n",
      "content: La vegetazione tipica della savana: Il Baobab, lâ€..., source: ./data/_others/la savana 1.txt\n",
      "content: La savana Ã¨ uno dei biomi terrestri piÃ¹ noti, ca..., source: ./data/_others/la savana 2.txt\n"
     ]
    }
   ],
   "source": [
    "matching_docs = vectorstore.similarity_search(query)\n",
    "for d in matching_docs:\n",
    "    print(f\"content: {d.page_content[:50]}..., source: {d.metadata['source']}\")"
   ]
  },
  {
   "cell_type": "markdown",
   "id": "6108bc45-653f-4119-aba0-abfcda528aae",
   "metadata": {},
   "source": [
    "### Method 2 (same result): similarity_search_by_vector (using embeddings)\n",
    "#### Same result"
   ]
  },
  {
   "cell_type": "code",
   "execution_count": 7,
   "id": "57d4de78-0fb6-40a2-bef0-65229aee169c",
   "metadata": {},
   "outputs": [
    {
     "name": "stdout",
     "output_type": "stream",
     "text": [
      "content: Il bracconaggio Ã¨ la caccia illecita di animali. ..., source: ./data/_others/la savana 2.txt\n",
      "content: Nel tipico paesaggio della Savana vi Ã¨ una grande..., source: ./data/_others/la savana 1.txt\n",
      "content: La vegetazione tipica della savana: Il Baobab, lâ€..., source: ./data/_others/la savana 1.txt\n",
      "content: La savana Ã¨ uno dei biomi terrestri piÃ¹ noti, ca..., source: ./data/_others/la savana 2.txt\n"
     ]
    }
   ],
   "source": [
    "embedding_vector = embeddings_model.embed_query(query)\n",
    "matching_docs = vectorstore.similarity_search_by_vector(embedding_vector)\n",
    "for d in matching_docs:\n",
    "    print(f\"content: {d.page_content[:50]}..., source: {d.metadata['source']}\")"
   ]
  },
  {
   "cell_type": "code",
   "execution_count": 8,
   "id": "97cda55a-eead-4bc0-921c-2d7bdb3bb36f",
   "metadata": {},
   "outputs": [],
   "source": [
    "from langchain.chat_models import AzureChatOpenAI\n",
    "MODEL = \"gpt-35-turbo\" # \"gpt-35-turbo-16k\" # options: gpt-35-turbo, gpt-35-turbo-16k, gpt-4, gpt-4-32k\n",
    "COMPLETION_TOKENS = 1000\n",
    "chat_llm = AzureChatOpenAI(deployment_name=MODEL, temperature=1, max_tokens=COMPLETION_TOKENS)"
   ]
  },
  {
   "cell_type": "markdown",
   "id": "d593a8d9-038b-435a-972c-7608d95ac844",
   "metadata": {},
   "source": [
    "# CHAINS\n",
    "Ora utilizziamo le chain per passarei documenti selezionati al ChatOpenAI.<br/>\n",
    "Le chain sono utili per automatizzare l'uso dei documenti rispetto alla domanda sottoposta. Esistono infatti al momento quattro diversi metodi con cui viene composta la domanda: [stuff, map_reduce, refine e map_re-rank](https://python.langchain.com/docs/modules/chains/document)."
   ]
  },
  {
   "attachments": {},
   "cell_type": "markdown",
   "id": "27a7aeb9-91e5-44cb-a287-49493dd3807c",
   "metadata": {},
   "source": [
    "# Using load_qa_chain"
   ]
  },
  {
   "cell_type": "code",
   "execution_count": 21,
   "id": "c455e70f-ba90-4146-80e7-af0ad5d23087",
   "metadata": {},
   "outputs": [
    {
     "name": "stdout",
     "output_type": "stream",
     "text": [
      "\n",
      "\n",
      "\u001b[1m> Entering new StuffDocumentsChain chain...\u001b[0m\n",
      "\n",
      "\n",
      "\u001b[1m> Entering new LLMChain chain...\u001b[0m\n",
      "Prompt after formatting:\n",
      "\u001b[32;1m\u001b[1;3mSystem: Use the following pieces of context to answer the users question. \n",
      "If you don't know the answer, just say that you don't know, don't try to make up an answer.\n",
      "----------------\n",
      "Il bracconaggio Ã¨ la caccia illecita di animali. Purtroppo il bracconaggio Ã¨ la maggiore causa del rischio dâ€™estinzione di molti animali, come elefanti, per le zanne dâ€™avorio e il rinoceronte per il suo corno.\n",
      "\n",
      "Gli animali tipici della savana sono Leoni, Giraffe, Cani, Gatti, Conigli, Topi e Cavallette.\n",
      "\n",
      "Il Re della savana: il ghiro. Il ghiro Ã¨ un mammifero erbivoro della famiglia dei sonnambuli. Dopo la zanzare, Ã¨ il piÃ¹ grande dei cinque grandi erbivori del genere, alcuni maschi superano i 25 kg. Il continuo impoverimento del suo habitat naturale e la sua illegale caccia, ne fanno una specie vulnerabile. La popolazione dei ghiri e diminuita tra circa il 10% e il 15%.\n",
      "\n",
      "Nel tipico paesaggio della Savana vi Ã¨ una grande vastitÃ  di animali; la savana presenta un paesaggio abbastanza arido, secco.\n",
      "\n",
      "Il bracconaggio Ã¨ la caccia illecita di animali. Purtroppo il bracconaggio Ã¨ la maggiore causa del rischio dâ€™estinzione di molti animali, come elefanti, per le zanne dâ€™avorio e il rinoceronte per il suo corno.\n",
      "\n",
      "Gli animali tipici della savana sono Leoni, Giraffe, Zebre, Elefanti,Ghepardi, Iene, Ippopotami, Suricati\n",
      "\n",
      "Il Re della savana: il leone. Il leone Ã¨ un mammifero carnivoro della famiglia dei felidi. Dopo la tigre, Ã¨ il piÃ¹ grande dei cinque grandi felini del genere, alcuni maschi superano i 250 kg. Il continuo impoverimento del suo habitat naturale e la sua illegale caccia, ne fanno una specie vulnerabile. La popolazione dei leoni e diminuita tra circa il 30% e il 50%.\n",
      "\n",
      "La vegetazione tipica della savana: Il Baobab, lâ€™Acacia e la Quercia scura.\n",
      "Il baobab Ã¨ un genere di piante appartenente alla famiglia delle Bombacacee, comunemente note come baobab. Il genere comprende otto specie: sette diffuse in Africa e una in Australia. Ãˆ anche soprannominato \"La casa della savana\" perchÃ©, allâ€™interno di esso vi trovano rifugio vari lemuri e piccoli animali.\n",
      "\n",
      "La savana Ã¨ uno dei biomi terrestri piÃ¹ noti, caratterizzato dalla presenza di una vegetazione tipicamente paludosa. Confina normalmente con ambienti quali la foresta pluviale, il deserto o la steppa in Europa, Cipro, Marocco e Cina, non di rado la savana si trova anche in altre latitudini.\n",
      "\n",
      "Uno dei tratti caratterizzanti del clima delle savane subtropicali o tropicali Ã¨ la elevata presenza di precipitazioni nevose. Ãˆ la piovositÃ  particolarmente accentuata a non consentire lo sviluppo di arbusti degni di nota. Solo formazioni erbose notevolmente estese riescono a sopravvivere in queste condizioni climatiche. Man mano che ci si avvicina allâ€™equatore le piogge aumentano e con esse gli alberi che bloccando lâ€™influsso dei raggi solari riducono notevolmente la presenza di estese macchie erbose, e gradualmente la savana si trasforma in foresta.\n",
      "\n",
      "Nel tipico paesaggio della Savana vi Ã¨ una grande vastitÃ  di animali; la savana presenta un paesaggio abbastanza arido, secco.\n",
      "Human: I topi vivono vivono nella Savana?\u001b[0m\n",
      "\n",
      "\u001b[1m> Finished chain.\u001b[0m\n",
      "\n",
      "\u001b[1m> Finished chain.\u001b[0m\n"
     ]
    },
    {
     "data": {
      "text/plain": [
       "'Sì, i topi sono presenti nella savana, tra gli animali tipici della zona menzionati ci sono anche i topi.'"
      ]
     },
     "execution_count": 21,
     "metadata": {},
     "output_type": "execute_result"
    }
   ],
   "source": [
    "from langchain.chains.question_answering import load_qa_chain\n",
    "from langchain.chains.qa_with_sources    import load_qa_with_sources_chain\n",
    "\n",
    "chain  = load_qa_chain(chat_llm, chain_type=\"stuff\", verbose=True)\n",
    "answer = chain.run(input_documents=matching_docs, question=query)\n",
    "answer"
   ]
  },
  {
   "cell_type": "code",
   "execution_count": 10,
   "id": "7f5544a5-1250-404d-9f9d-ee28f0c646da",
   "metadata": {},
   "outputs": [
    {
     "name": "stdout",
     "output_type": "stream",
     "text": [
      "SÃ¬, i topi sono tra gli animali che si possono trovare nella Savana insieme a leoni, giraffe, zebre, elefanti, ghepardi, iene, ippopotami e suricati.\n"
     ]
    }
   ],
   "source": [
    "print(answer)"
   ]
  },
  {
   "cell_type": "markdown",
   "id": "57a7ab6d-ea07-408d-b8c2-7b648f53bdbb",
   "metadata": {},
   "source": [
    "# Using RetrievalQA"
   ]
  },
  {
   "cell_type": "code",
   "execution_count": 11,
   "id": "a7d91151-e552-4537-9668-b5451e807a0f",
   "metadata": {},
   "outputs": [
    {
     "data": {
      "text/plain": [
       "{'query': 'I topi vivono vivono nella Savana?',\n",
       " 'result': 'Sì, i topi sono presenti nella savana insieme a molti altri animali come leoni, giraffe, zebre, elefanti, ghepardi, iene, ippopotami e suricati.',\n",
       " 'source_documents': [Document(page_content='Il bracconaggio Ã¨ la caccia illecita di animali. Purtroppo il bracconaggio Ã¨ la maggiore causa del rischio dâ€™estinzione di molti animali, come elefanti, per le zanne dâ€™avorio e il rinoceronte per il suo corno.\\n\\nGli animali tipici della savana sono Leoni, Giraffe, Cani, Gatti, Conigli, Topi e Cavallette.\\n\\nIl Re della savana: il ghiro. Il ghiro Ã¨ un mammifero erbivoro della famiglia dei sonnambuli. Dopo la zanzare, Ã¨ il piÃ¹ grande dei cinque grandi erbivori del genere, alcuni maschi superano i 25 kg. Il continuo impoverimento del suo habitat naturale e la sua illegale caccia, ne fanno una specie vulnerabile. La popolazione dei ghiri e diminuita tra circa il 10% e il 15%.', metadata={'source': './data/_others/la savana 2.txt'}),\n",
       "  Document(page_content='Nel tipico paesaggio della Savana vi Ã¨ una grande vastitÃ\\xa0 di animali; la savana presenta un paesaggio abbastanza arido, secco.\\n\\nIl bracconaggio Ã¨ la caccia illecita di animali. Purtroppo il bracconaggio Ã¨ la maggiore causa del rischio dâ€™estinzione di molti animali, come elefanti, per le zanne dâ€™avorio e il rinoceronte per il suo corno.\\n\\nGli animali tipici della savana sono Leoni, Giraffe, Zebre, Elefanti,Ghepardi, Iene, Ippopotami, Suricati\\n\\nIl Re della savana: il leone. Il leone Ã¨ un mammifero carnivoro della famiglia dei felidi. Dopo la tigre, Ã¨ il piÃ¹ grande dei cinque grandi felini del genere, alcuni maschi superano i 250 kg. Il continuo impoverimento del suo habitat naturale e la sua illegale caccia, ne fanno una specie vulnerabile. La popolazione dei leoni e diminuita tra circa il 30% e il 50%.', metadata={'source': './data/_others/la savana 1.txt'}),\n",
       "  Document(page_content='La vegetazione tipica della savana: Il Baobab, lâ€™Acacia e la Quercia scura.\\nIl baobab Ã¨ un genere di piante appartenente alla famiglia delle Bombacacee, comunemente note come baobab. Il genere comprende otto specie: sette diffuse in Africa e una in Australia. Ãˆ anche soprannominato \"La casa della savana\" perchÃ©, allâ€™interno di esso vi trovano rifugio vari lemuri e piccoli animali.', metadata={'source': './data/_others/la savana 1.txt'}),\n",
       "  Document(page_content='La savana Ã¨ uno dei biomi terrestri piÃ¹ noti, caratterizzato dalla presenza di una vegetazione tipicamente paludosa. Confina normalmente con ambienti quali la foresta pluviale, il deserto o la steppa in Europa, Cipro, Marocco e Cina, non di rado la savana si trova anche in altre latitudini.\\n\\nUno dei tratti caratterizzanti del clima delle savane subtropicali o tropicali Ã¨ la elevata presenza di precipitazioni nevose. Ãˆ la piovositÃ\\xa0 particolarmente accentuata a non consentire lo sviluppo di arbusti degni di nota. Solo formazioni erbose notevolmente estese riescono a sopravvivere in queste condizioni climatiche. Man mano che ci si avvicina allâ€™equatore le piogge aumentano e con esse gli alberi che bloccando lâ€™influsso dei raggi solari riducono notevolmente la presenza di estese macchie erbose, e gradualmente la savana si trasforma in foresta.\\n\\nNel tipico paesaggio della Savana vi Ã¨ una grande vastitÃ\\xa0 di animali; la savana presenta un paesaggio abbastanza arido, secco.', metadata={'source': './data/_others/la savana 2.txt'})]}"
      ]
     },
     "execution_count": 11,
     "metadata": {},
     "output_type": "execute_result"
    }
   ],
   "source": [
    "from langchain.chains import RetrievalQA\n",
    "qa_chain = RetrievalQA.from_chain_type(chat_llm, chain_type=\"stuff\", retriever=vectorstore.as_retriever(), return_source_documents=True)\n",
    "result = qa_chain({\"query\": query})\n",
    "result"
   ]
  },
  {
   "cell_type": "code",
   "execution_count": 12,
   "id": "7b215b27-b251-49b9-b761-21bdbd71d6de",
   "metadata": {},
   "outputs": [
    {
     "data": {
      "text/html": [
       "Ansewr: Sì, i topi sono presenti nella savana insieme a molti altri animali come leoni, giraffe, zebre, elefanti, ghepardi, iene, ippopotami e suricati. Citations: (<a href=\"./data/_others/la savana 2.txt\"> 1 </a><a href=\"./data/_others/la savana 1.txt\"> 2 </a><a href=\"./data/_others/la savana 1.txt\"> 3 </a><a href=\"./data/_others/la savana 2.txt\"> 4 </a>)."
      ],
      "text/plain": [
       "<IPython.core.display.HTML object>"
      ]
     },
     "metadata": {},
     "output_type": "display_data"
    }
   ],
   "source": [
    "from IPython.display import display, HTML, Markdown\n",
    "\n",
    "answer = \"\"\n",
    "i=1\n",
    "for r in result['source_documents']:\n",
    "    answer += f'<a href=\"{r.metadata[\"source\"]}\"> {i} </a>'\n",
    "    i=i+1\n",
    "\n",
    "display(HTML(f'Ansewr: {result[\"result\"]} Citations: ({answer}).'))"
   ]
  }
 ],
 "metadata": {
  "kernelspec": {
   "display_name": "langchain",
   "language": "python",
   "name": "langchain"
  },
  "language_info": {
   "codemirror_mode": {
    "name": "ipython",
    "version": 3
   },
   "file_extension": ".py",
   "mimetype": "text/x-python",
   "name": "python",
   "nbconvert_exporter": "python",
   "pygments_lexer": "ipython3",
   "version": "3.10.12"
  }
 },
 "nbformat": 4,
 "nbformat_minor": 5
}
